{
 "cells": [
  {
   "cell_type": "code",
   "execution_count": 3,
   "id": "7808e9e4-e5a0-43e8-bcf5-829d295dc463",
   "metadata": {},
   "outputs": [],
   "source": [
    "import girder_client\n",
    "import pickle\n",
    "\n",
    "def getImageThumb_as_NP(imageId, imageWidth=512):\n",
    "    ## TO DO: Cache this?\n",
    "\n",
    "    try:\n",
    "        pickledItem = gc.get(\n",
    "            f\"item/{imageId}/tiles/thumbnail?encoding=pickle\", jsonResp=False\n",
    "        )\n",
    "\n",
    "        ## Need to have or cache the baseImage size as well... another feature to add\n",
    "        baseImage_as_np = pickle.loads(pickledItem.content)\n",
    "    except:\n",
    "        return None\n",
    "\n",
    "    return baseImage_as_np\n",
    "\n"
   ]
  }
 ],
 "metadata": {
  "kernelspec": {
   "display_name": "Python 3 (ipykernel)",
   "language": "python",
   "name": "python3"
  },
  "language_info": {
   "codemirror_mode": {
    "name": "ipython",
    "version": 3
   },
   "file_extension": ".py",
   "mimetype": "text/x-python",
   "name": "python",
   "nbconvert_exporter": "python",
   "pygments_lexer": "ipython3",
   "version": "3.11.4"
  }
 },
 "nbformat": 4,
 "nbformat_minor": 5
}
