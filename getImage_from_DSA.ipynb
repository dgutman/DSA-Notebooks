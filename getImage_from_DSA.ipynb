{
 "cells": [
  {
   "cell_type": "code",
   "execution_count": 10,
   "id": "7808e9e4-e5a0-43e8-bcf5-829d295dc463",
   "metadata": {},
   "outputs": [],
   "source": [
    "import girder_client\n",
    "import pickle\n",
    "\n",
    "\n",
    "\n",
    "### This notebook will demonstrate how to pull an image from the DSA as either a PNG or a NUMPY array\n",
    "\n",
    "gc = girder_client.GirderClient(apiUrl=\"https://data.dsa.org/api/v1\")\n",
    "\n",
    "## NEED TO CREATE A SAMPLE TOKEN TO USE FOR THIS AND PUT IT IN A .ENV file\n",
    "\n",
    "dsa_api_key='12356'\n",
    "\n",
    "#gc.authenticate(apiKey=dsa_api_key)\n",
    "\n",
    "\n",
    "def getImageThumb_as_NP(imageId, imageWidth=512):\n",
    "    ## TO DO: Cache this?\n",
    "\n",
    "    try:\n",
    "        pickledItem = gc.get(\n",
    "            f\"item/{imageId}/tiles/thumbnail?encoding=pickle\", jsonResp=False\n",
    "        )\n",
    "\n",
    "        ## Need to have or cache the baseImage size as well... another feature to add\n",
    "        baseImage_as_np = pickle.loads(pickledItem.content)\n",
    "    except:\n",
    "        return None\n",
    "\n",
    "    return baseImage_as_np\n",
    "\n"
   ]
  },
  {
   "cell_type": "code",
   "execution_count": 9,
   "id": "5f088c60",
   "metadata": {},
   "outputs": [],
   "source": [
    "### Display a thumbnail of an image"
   ]
  }
 ],
 "metadata": {
  "kernelspec": {
   "display_name": ".pyenv",
   "language": "python",
   "name": "python3"
  },
  "language_info": {
   "codemirror_mode": {
    "name": "ipython",
    "version": 3
   },
   "file_extension": ".py",
   "mimetype": "text/x-python",
   "name": "python",
   "nbconvert_exporter": "python",
   "pygments_lexer": "ipython3",
   "version": "3.12.1"
  }
 },
 "nbformat": 4,
 "nbformat_minor": 5
}
