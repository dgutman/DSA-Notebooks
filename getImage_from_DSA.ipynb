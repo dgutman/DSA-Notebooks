{
 "cells": [
  {
   "cell_type": "code",
   "execution_count": 6,
   "id": "7808e9e4-e5a0-43e8-bcf5-829d295dc463",
   "metadata": {},
   "outputs": [
    {
     "ename": "TypeError",
     "evalue": "GirderClient.authenticate() got an unexpected keyword argument 'token'",
     "output_type": "error",
     "traceback": [
      "\u001b[31m---------------------------------------------------------------------------\u001b[39m",
      "\u001b[31mTypeError\u001b[39m                                 Traceback (most recent call last)",
      "\u001b[36mCell\u001b[39m\u001b[36m \u001b[39m\u001b[32mIn[6]\u001b[39m\u001b[32m, line 10\u001b[39m\n\u001b[32m      6\u001b[39m \u001b[38;5;66;03m## NEED TO CREATE A SAMPLE TOKEN TO USE FOR THIS AND PUT IT IN A .ENV file\u001b[39;00m\n\u001b[32m      8\u001b[39m token=\u001b[33m'\u001b[39m\u001b[33m12356\u001b[39m\u001b[33m'\u001b[39m\n\u001b[32m---> \u001b[39m\u001b[32m10\u001b[39m \u001b[43mgc\u001b[49m\u001b[43m.\u001b[49m\u001b[43mauthenticate\u001b[49m\u001b[43m(\u001b[49m\u001b[43mtoken\u001b[49m\u001b[43m=\u001b[49m\u001b[43mtoken\u001b[49m\u001b[43m)\u001b[49m\n\u001b[32m     13\u001b[39m \u001b[38;5;28;01mdef\u001b[39;00m\u001b[38;5;250m \u001b[39m\u001b[34mgetImageThumb_as_NP\u001b[39m(imageId, imageWidth=\u001b[32m512\u001b[39m):\n\u001b[32m     14\u001b[39m     \u001b[38;5;66;03m## TO DO: Cache this?\u001b[39;00m\n\u001b[32m     16\u001b[39m     \u001b[38;5;28;01mtry\u001b[39;00m:\n",
      "\u001b[31mTypeError\u001b[39m: GirderClient.authenticate() got an unexpected keyword argument 'token'"
     ]
    }
   ],
   "source": [
    "import girder_client\n",
    "import pickle\n",
    "\n",
    "gc = girder_client.GirderClient(apiUrl=\"https://data.dsa.org/api/v1\")\n",
    "\n",
    "## NEED TO CREATE A SAMPLE TOKEN TO USE FOR THIS AND PUT IT IN A .ENV file\n",
    "\n",
    "dsa_api_key='12356'\n",
    "\n",
    "gc.authenticate(apiKey=dsa_api_key)\n",
    "\n",
    "\n",
    "def getImageThumb_as_NP(imageId, imageWidth=512):\n",
    "    ## TO DO: Cache this?\n",
    "\n",
    "    try:\n",
    "        pickledItem = gc.get(\n",
    "            f\"item/{imageId}/tiles/thumbnail?encoding=pickle\", jsonResp=False\n",
    "        )\n",
    "\n",
    "        ## Need to have or cache the baseImage size as well... another feature to add\n",
    "        baseImage_as_np = pickle.loads(pickledItem.content)\n",
    "    except:\n",
    "        return None\n",
    "\n",
    "    return baseImage_as_np\n",
    "\n"
   ]
  },
  {
   "cell_type": "code",
   "execution_count": null,
   "id": "5f088c60",
   "metadata": {},
   "outputs": [],
   "source": []
  }
 ],
 "metadata": {
  "kernelspec": {
   "display_name": ".pyenv",
   "language": "python",
   "name": "python3"
  },
  "language_info": {
   "codemirror_mode": {
    "name": "ipython",
    "version": 3
   },
   "file_extension": ".py",
   "mimetype": "text/x-python",
   "name": "python",
   "nbconvert_exporter": "python",
   "pygments_lexer": "ipython3",
   "version": "3.12.1"
  }
 },
 "nbformat": 4,
 "nbformat_minor": 5
}
